{
    "metadata": {
        "kernelspec": {
            "name": "SQL",
            "display_name": "SQL",
            "language": "sql"
        },
        "language_info": {
            "name": "sql",
            "version": ""
        }
    },
    "nbformat_minor": 2,
    "nbformat": 4,
    "cells": [
        {
            "cell_type": "code",
            "source": [
                "CREATE PROCEDURE find_diciplines \n",
                "@medal_type NVARCHAR(10),\n",
                "@discipline_id SMALLINT,\n",
                "@season NVARCHAR (10)\n",
                "AS\n",
                "SELECT\n",
                "*\n",
                "FROM [test1].[dbo].[Medalist2]\n",
                "WHERE Medal = @medal_type\n",
                "AND DisciplineID = @discipline_id\n",
                "AND Season = @season"
            ],
            "metadata": {
                "azdata_cell_guid": "c6211df1-4a1c-4724-9f40-10fe4dc0d4ee",
                "language": "sql"
            },
            "outputs": [
                {
                    "output_type": "error",
                    "evalue": "Msg 2714, Level 16, State 3, Procedure find_diciplines, Line 1\nThere is already an object named 'find_diciplines' in the database.",
                    "ename": "",
                    "traceback": []
                },
                {
                    "output_type": "display_data",
                    "data": {
                        "text/html": "Total execution time: 00:00:00.042"
                    },
                    "metadata": {}
                }
            ],
            "execution_count": 6
        },
        {
            "cell_type": "code",
            "source": [
                "EXEC find_diciplines \n",
                "@medal_type = 'Gold',\n",
                "@discipline_id = 16, \n",
                "@season = 'Summer'"
            ],
            "metadata": {
                "language": "sql",
                "azdata_cell_guid": "0e926127-8131-47f4-8b9a-1d27b247f2a5",
                "tags": []
            },
            "outputs": [
                {
                    "output_type": "display_data",
                    "data": {
                        "text/html": "(12 rows affected)"
                    },
                    "metadata": {}
                },
                {
                    "output_type": "display_data",
                    "data": {
                        "text/html": "Total execution time: 00:00:00.021"
                    },
                    "metadata": {}
                },
                {
                    "output_type": "execute_result",
                    "metadata": {},
                    "execution_count": 9,
                    "data": {
                        "application/vnd.dataresource+json": {
                            "schema": {
                                "fields": [
                                    {
                                        "name": "MedalistID"
                                    },
                                    {
                                        "name": "Edition"
                                    },
                                    {
                                        "name": "Athlete"
                                    },
                                    {
                                        "name": "NOC"
                                    },
                                    {
                                        "name": "Gender"
                                    },
                                    {
                                        "name": "Event"
                                    },
                                    {
                                        "name": "Medal"
                                    },
                                    {
                                        "name": "Season"
                                    },
                                    {
                                        "name": "MedalValue"
                                    },
                                    {
                                        "name": "SportID"
                                    },
                                    {
                                        "name": "DisciplineID"
                                    }
                                ]
                            },
                            "data": [
                                {
                                    "0": "160",
                                    "1": "1900",
                                    "2": "BEACHCROFT, Charles",
                                    "3": "GBR",
                                    "4": "Men",
                                    "5": "cricket",
                                    "6": "Gold",
                                    "7": "Summer",
                                    "8": "1",
                                    "9": "12",
                                    "10": "16"
                                },
                                {
                                    "0": "161",
                                    "1": "1900",
                                    "2": "BIRKETT, Arthur Ernest",
                                    "3": "GBR",
                                    "4": "Men",
                                    "5": "cricket",
                                    "6": "Gold",
                                    "7": "Summer",
                                    "8": "1",
                                    "9": "12",
                                    "10": "16"
                                },
                                {
                                    "0": "162",
                                    "1": "1900",
                                    "2": "BOWERMAN, Alfred James",
                                    "3": "GBR",
                                    "4": "Men",
                                    "5": "cricket",
                                    "6": "Gold",
                                    "7": "Summer",
                                    "8": "1",
                                    "9": "12",
                                    "10": "16"
                                },
                                {
                                    "0": "163",
                                    "1": "1900",
                                    "2": "BUCKLEY, George John",
                                    "3": "GBR",
                                    "4": "Men",
                                    "5": "cricket",
                                    "6": "Gold",
                                    "7": "Summer",
                                    "8": "1",
                                    "9": "12",
                                    "10": "16"
                                },
                                {
                                    "0": "164",
                                    "1": "1900",
                                    "2": "BURCHELL, Francis Romulus",
                                    "3": "GBR",
                                    "4": "Men",
                                    "5": "cricket",
                                    "6": "Gold",
                                    "7": "Summer",
                                    "8": "1",
                                    "9": "12",
                                    "10": "16"
                                },
                                {
                                    "0": "165",
                                    "1": "1900",
                                    "2": "CHRISTIAN, Frederick William",
                                    "3": "GBR",
                                    "4": "Men",
                                    "5": "cricket",
                                    "6": "Gold",
                                    "7": "Summer",
                                    "8": "1",
                                    "9": "12",
                                    "10": "16"
                                },
                                {
                                    "0": "166",
                                    "1": "1900",
                                    "2": "CORNER, Harry Richard",
                                    "3": "GBR",
                                    "4": "Men",
                                    "5": "cricket",
                                    "6": "Gold",
                                    "7": "Summer",
                                    "8": "1",
                                    "9": "12",
                                    "10": "16"
                                },
                                {
                                    "0": "167",
                                    "1": "1900",
                                    "2": "CUMING, Frederick Wlliam",
                                    "3": "GBR",
                                    "4": "Men",
                                    "5": "cricket",
                                    "6": "Gold",
                                    "7": "Summer",
                                    "8": "1",
                                    "9": "12",
                                    "10": "16"
                                },
                                {
                                    "0": "168",
                                    "1": "1900",
                                    "2": "DONNE, William Stephen",
                                    "3": "GBR",
                                    "4": "Men",
                                    "5": "cricket",
                                    "6": "Gold",
                                    "7": "Summer",
                                    "8": "1",
                                    "9": "12",
                                    "10": "16"
                                },
                                {
                                    "0": "169",
                                    "1": "1900",
                                    "2": "POWLESLAND, Alfred James",
                                    "3": "GBR",
                                    "4": "Men",
                                    "5": "cricket",
                                    "6": "Gold",
                                    "7": "Summer",
                                    "8": "1",
                                    "9": "12",
                                    "10": "16"
                                },
                                {
                                    "0": "170",
                                    "1": "1900",
                                    "2": "SYMES, John",
                                    "3": "GBR",
                                    "4": "Men",
                                    "5": "cricket",
                                    "6": "Gold",
                                    "7": "Summer",
                                    "8": "1",
                                    "9": "12",
                                    "10": "16"
                                },
                                {
                                    "0": "171",
                                    "1": "1900",
                                    "2": "TOLLER, Montagu Henry",
                                    "3": "GBR",
                                    "4": "Men",
                                    "5": "cricket",
                                    "6": "Gold",
                                    "7": "Summer",
                                    "8": "1",
                                    "9": "12",
                                    "10": "16"
                                }
                            ]
                        },
                        "text/html": [
                            "<table>",
                            "<tr><th>MedalistID</th><th>Edition</th><th>Athlete</th><th>NOC</th><th>Gender</th><th>Event</th><th>Medal</th><th>Season</th><th>MedalValue</th><th>SportID</th><th>DisciplineID</th></tr>",
                            "<tr><td>160</td><td>1900</td><td>BEACHCROFT, Charles</td><td>GBR</td><td>Men</td><td>cricket</td><td>Gold</td><td>Summer</td><td>1</td><td>12</td><td>16</td></tr>",
                            "<tr><td>161</td><td>1900</td><td>BIRKETT, Arthur Ernest</td><td>GBR</td><td>Men</td><td>cricket</td><td>Gold</td><td>Summer</td><td>1</td><td>12</td><td>16</td></tr>",
                            "<tr><td>162</td><td>1900</td><td>BOWERMAN, Alfred James</td><td>GBR</td><td>Men</td><td>cricket</td><td>Gold</td><td>Summer</td><td>1</td><td>12</td><td>16</td></tr>",
                            "<tr><td>163</td><td>1900</td><td>BUCKLEY, George John</td><td>GBR</td><td>Men</td><td>cricket</td><td>Gold</td><td>Summer</td><td>1</td><td>12</td><td>16</td></tr>",
                            "<tr><td>164</td><td>1900</td><td>BURCHELL, Francis Romulus</td><td>GBR</td><td>Men</td><td>cricket</td><td>Gold</td><td>Summer</td><td>1</td><td>12</td><td>16</td></tr>",
                            "<tr><td>165</td><td>1900</td><td>CHRISTIAN, Frederick William</td><td>GBR</td><td>Men</td><td>cricket</td><td>Gold</td><td>Summer</td><td>1</td><td>12</td><td>16</td></tr>",
                            "<tr><td>166</td><td>1900</td><td>CORNER, Harry Richard</td><td>GBR</td><td>Men</td><td>cricket</td><td>Gold</td><td>Summer</td><td>1</td><td>12</td><td>16</td></tr>",
                            "<tr><td>167</td><td>1900</td><td>CUMING, Frederick Wlliam</td><td>GBR</td><td>Men</td><td>cricket</td><td>Gold</td><td>Summer</td><td>1</td><td>12</td><td>16</td></tr>",
                            "<tr><td>168</td><td>1900</td><td>DONNE, William Stephen</td><td>GBR</td><td>Men</td><td>cricket</td><td>Gold</td><td>Summer</td><td>1</td><td>12</td><td>16</td></tr>",
                            "<tr><td>169</td><td>1900</td><td>POWLESLAND, Alfred James</td><td>GBR</td><td>Men</td><td>cricket</td><td>Gold</td><td>Summer</td><td>1</td><td>12</td><td>16</td></tr>",
                            "<tr><td>170</td><td>1900</td><td>SYMES, John</td><td>GBR</td><td>Men</td><td>cricket</td><td>Gold</td><td>Summer</td><td>1</td><td>12</td><td>16</td></tr>",
                            "<tr><td>171</td><td>1900</td><td>TOLLER, Montagu Henry</td><td>GBR</td><td>Men</td><td>cricket</td><td>Gold</td><td>Summer</td><td>1</td><td>12</td><td>16</td></tr>",
                            "</table>"
                        ]
                    }
                }
            ],
            "execution_count": 9
        }
    ]
}